{
 "metadata": {
  "language_info": {
   "codemirror_mode": {
    "name": "ipython",
    "version": 3
   },
   "file_extension": ".py",
   "mimetype": "text/x-python",
   "name": "python",
   "nbconvert_exporter": "python",
   "pygments_lexer": "ipython3",
   "version": "3.8.5"
  },
  "orig_nbformat": 2,
  "kernelspec": {
   "name": "python3",
   "display_name": "Python 3.8.5 64-bit ('base': conda)"
  },
  "interpreter": {
   "hash": "e7ad3e331d89125a35e1aa51e4cbfadb7339476d992231fff57158d187b2117c"
  }
 },
 "nbformat": 4,
 "nbformat_minor": 2,
 "cells": [
  {
   "cell_type": "code",
   "execution_count": 1,
   "metadata": {},
   "outputs": [],
   "source": [
    "import sys\n",
    "import os\n",
    "import re\n",
    "import numpy as np\n",
    "import pandas as pd\n",
    "import time\n",
    "import psycopg2\n",
    "import requests\n",
    "from bs4 import BeautifulSoup\n",
    "\n",
    "from convertPDF.webScrape.pdf2xml import *\n",
    "from convertPDF.webScrape.xml2txt import *\n",
    "\n",
    "from convertPDF.driver import parseFullDay\n",
    "\n",
    "from convertPDF.infoFns.genInfoFns import parseGenInfo\n",
    "from convertPDF.infoFns.horseInfoFns import parseHorseInfo\n",
    "from convertPDF.infoFns.timesInfoFns import parseTimeInfo\n",
    "from convertPDF.infoFns.betInfoFns import parseBetInfo\n",
    "from convertPDF.infoFns.runlineInfoFns import parseRunlineInfo\n",
    "from convertPDF.infoFns.endInfoFns import parseEndInfo\n",
    "\n",
    "from populateDB import generateEntries, populateDB\n",
    "\n",
    "from convertPDF.infoFns.regexPatterns import *\n",
    "\n",
    "from convertPDF.webScrape.htmlMgmt import *\n",
    "from convertPDF.webScrape.saveTrackUrlsFromFiles import saveRaceUrlsFromFiles\n",
    "\n",
    "from dataClean.cleanFns import racesClean, horsesClean"
   ]
  },
  {
   "cell_type": "code",
   "execution_count": 2,
   "metadata": {},
   "outputs": [
    {
     "output_type": "execute_result",
     "data": {
      "text/plain": [
       "'<html style=\"height:100%\"><head><META NAME=\"ROBOTS\" CONTENT=\"NOINDEX, NOFOLLOW\"><meta name=\"format-detection\" content=\"telephone=no\"><meta name=\"viewport\" content=\"initial-scale=1.0\"><meta http-equiv=\"X-UA-Compatible\" content=\"IE=edge,chrome=1\"><script type=\"text/javascript\" src=\"/_Incapsula_Resource?SWJIYLWA=719d34d31c8e3a6e6fffd425f7e032f3\"></script><script src=\"/inan-giues-thing-starra-your-Thange-Macb-This-br\" async></script></head><body style=\"margin:0px;height:100%\"><iframe id=\"main-iframe\" src=\"/_Incapsula_Resource?SWUDNSAI=30&xinfo=6-88513540-0%20NNNY%20RT%281624920748570%20300%29%20q%280%20-1%20-1%200%29%20r%281%20-1%29%20B12%2814%2c0%2c0%29%20U18&incident_id=1363000130510444399-513288204444697414&edet=12&cinfo=0e000000ce42&rpinfo=0&cts=762mbK5Mw1%2fOMsJwTZa2nxiFeg6O2a0U%2f7kTivS0SGznpXsw55ACyhPj%2f0Tw7l1f&mth=GET\" frameborder=0 width=\"100%\" height=\"100%\" marginheight=\"0px\" marginwidth=\"0px\">Request unsuccessful. Incapsula incident ID: 1363000130510444399-513288204444697414</iframe></body></html>'"
      ]
     },
     "metadata": {},
     "execution_count": 2
    }
   ],
   "source": [
    "requests.get('https://www.equibase.com/premium/eqbRaceChartCalendar.cfm?SAP=TN').text"
   ]
  },
  {
   "cell_type": "code",
   "execution_count": null,
   "metadata": {},
   "outputs": [],
   "source": [
    "horsesdf = pd.read_csv('./../outputs/horses.csv', dtype='string')\n",
    "racesdf = pd.read_csv('./../outputs/races.csv', dtype='string')\n",
    "horsesClean = horsesClean(horsesdf)\n",
    "racesdf = racesClean(racesdf)"
   ]
  },
  {
   "cell_type": "code",
   "execution_count": null,
   "metadata": {
    "tags": []
   },
   "outputs": [],
   "source": [
    "start = time.time()\n",
    "entries = generateEntries('./../charts/txts')\n",
    "end = time.time()\n",
    "\n",
    "end - start"
   ]
  },
  {
   "cell_type": "code",
   "execution_count": null,
   "metadata": {},
   "outputs": [],
   "source": [
    "conn = psycopg2.connect(\n",
    "    host = \"localhost\",\n",
    "    database = \"horses\",\n",
    "    user = \"karisch\",\n",
    "    password = \"cocacola\",\n",
    "    port = 5432\n",
    ")"
   ]
  },
  {
   "cell_type": "code",
   "execution_count": null,
   "metadata": {},
   "outputs": [],
   "source": [
    "populateDB(conn, entries)"
   ]
  },
  {
   "cell_type": "code",
   "execution_count": null,
   "metadata": {},
   "outputs": [],
   "source": [
    "with conn.cursor() as cur:\n",
    "    cur.execute(\"SELECT * FROM main.races;\")\n",
    "    races = cur.fetchall()\n",
    "    cur.execute(\"SELECT * FROM main.horses;\")\n",
    "    horses = cur.fetchall()"
   ]
  },
  {
   "cell_type": "code",
   "execution_count": null,
   "metadata": {},
   "outputs": [],
   "source": [
    "raceCols = (\"track\", \"date\",\"race\",\"stakes\",\"distanceStr\",\"surface\",\"weather\",\"conditions\",            \"startTime\",\"startNote\",\"segment1\",\"segment2\",\"segment3\",\"segment4\",\"segment5\",\"segments\",\"fracTime1\",\"fracTime2\",\"fracTime3\",\"fracTime4\",\"fracTime5\",\"finalTime\",\"runup\",\"wpsPool\",\"firstPlaceWin\",\"firstPlacePlace\",\"firstPlaceShow\",\"secondPlacePlace\",\"secondPlaceShow\",\"thirdPlaceShow\",\"exactaBuyin\",\"exactaFinish\",\"exactaPayout\",\"exactaPool\",\"trifectaBuyin\",\"trifectaFinish\",\"trifectaPayout\",\"trifectaPool\")"
   ]
  },
  {
   "cell_type": "code",
   "execution_count": null,
   "metadata": {},
   "outputs": [],
   "source": [
    "horseCols = (\"track\",\"date\",\"race\",\"horseProgram\",\"horseName\",\"lastRaceDay\",\"lastRaceMonth\",\"lastRaceYear\",\"lastRaceTrack\",\"jockey\",\"weight\",\"ME\",\"placePP\",\"placeSeg1\",\"placeSeg2\",\"placeSeg3\",\"placeSeg4\",\"placeSeg5\",\"placeSeg6\",\"odds\",\"comments\",\"lastRaceNum\",\"lastRacePlace\",\"lengthsSeg1\",\"lengthsSeg2\",\"lengthsSeg3\",\"lengthsSeg4\",\"lengthsSeg5\",\"lengthsSeg6\",\"rlLengthsSeg1\",\"rlLengthsSeg2\",\"rlLengthsSeg3\",\"rlLengthsSeg4\",\"rlLengthsSeg5\",\"rlLengthsSeg6\",\"rlPlaceSeg1\",\"rlPlaceSeg2\",\"rlPlaceSeg3\",\"rlPlaceSeg4\",\"rlPlaceSeg5\",\"rlPlaceSeg6\",\"trainer\",\"owner\")"
   ]
  },
  {
   "cell_type": "code",
   "execution_count": null,
   "metadata": {},
   "outputs": [],
   "source": [
    "racesdf = pd.DataFrame(races, columns=raceCols, dtype='string')\n",
    "horsesdf = pd.DataFrame(horses, columns=horseCols, dtype='string')"
   ]
  },
  {
   "cell_type": "code",
   "execution_count": null,
   "metadata": {},
   "outputs": [],
   "source": [
    "racesdf.to_csv('./../outputs/races.csv', index=False)\n",
    "horsesdf.to_csv('./../outputs/horses.csv', index=False)"
   ]
  }
 ]
}