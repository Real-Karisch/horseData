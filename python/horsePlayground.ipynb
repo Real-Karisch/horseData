{
 "metadata": {
  "language_info": {
   "codemirror_mode": {
    "name": "ipython",
    "version": 3
   },
   "file_extension": ".py",
   "mimetype": "text/x-python",
   "name": "python",
   "nbconvert_exporter": "python",
   "pygments_lexer": "ipython3",
   "version": "3.8.5"
  },
  "orig_nbformat": 2,
  "kernelspec": {
   "name": "python3",
   "display_name": "Python 3.8.5 64-bit ('base': conda)"
  },
  "interpreter": {
   "hash": "e7ad3e331d89125a35e1aa51e4cbfadb7339476d992231fff57158d187b2117c"
  }
 },
 "nbformat": 4,
 "nbformat_minor": 2,
 "cells": [
  {
   "cell_type": "code",
   "execution_count": 1,
   "metadata": {},
   "outputs": [],
   "source": [
    "import sys\n",
    "import os\n",
    "import re\n",
    "import numpy as np\n",
    "import pandas as pd\n",
    "import time\n",
    "import psycopg2\n",
    "import requests\n",
    "from bs4 import BeautifulSoup\n",
    "\n",
    "from convertPDF.webScrape.pdf2xml import *\n",
    "from convertPDF.webScrape.xml2txt import *\n",
    "\n",
    "from convertPDF.driver import parseFullDay\n",
    "\n",
    "from convertPDF.infoFns.genInfoFns import parseGenInfo\n",
    "from convertPDF.infoFns.horseInfoFns import parseHorseInfo\n",
    "from convertPDF.infoFns.timesInfoFns import parseTimeInfo\n",
    "from convertPDF.infoFns.betInfoFns import parseBetInfo\n",
    "from convertPDF.infoFns.runlineInfoFns import parseRunlineInfo\n",
    "from convertPDF.infoFns.endInfoFns import parseEndInfo\n",
    "\n",
    "from populateDB import generateEntries, populateDB\n",
    "\n",
    "from convertPDF.infoFns.regexPatterns import *\n",
    "\n",
    "from convertPDF.webScrape.htmlMgmt import *\n",
    "from convertPDF.webScrape.saveTrackUrlsFromFiles import saveRaceUrlsFromFiles\n",
    "\n",
    "from dataClean.cleanFns import racesClean, horsesClean"
   ]
  },
  {
   "cell_type": "code",
   "execution_count": 2,
   "metadata": {},
   "outputs": [],
   "source": [
    "horsesdf = pd.read_csv('./../outputs/horses.csv', dtype='string')\n",
    "racesdf = pd.read_csv('./../outputs/races.csv', dtype='string')\n",
    "horsesdf = horsesClean(horsesdf)\n",
    "racesdf = racesClean(racesdf)"
   ]
  },
  {
   "cell_type": "code",
   "execution_count": 4,
   "metadata": {},
   "outputs": [],
   "source": [
    "horsesdf.to_csv('./../../horseAnalysis/data/horses.csv', index=False)\n",
    "racesdf.to_csv('./../../horseAnalysis/data/races.csv', index=False)"
   ]
  },
  {
   "cell_type": "code",
   "execution_count": 2,
   "metadata": {
    "tags": []
   },
   "outputs": [
    {
     "output_type": "stream",
     "name": "stdout",
     "text": [
      "Converting 6421 files\n",
      "0\n",
      "300\n",
      "Error in parseBetLine on line:  $1.00 Daily Double 5-2 7.70 3,587\n",
      "\n",
      "600\n",
      "900\n",
      "1200\n",
      "Error in parseAdditionalBetLines on line:  $0.20 Superfecta 11-4-3-2 7,744 5,808\n",
      "\n",
      "Error in parseBetLine on line:  $1.00 Daily Double 5-11 9.00 3,947\n",
      "\n",
      "1500\n",
      "Match error in parseStart on line:  Off at: : Start: Good for all except\n",
      "\n",
      "Match error in parseFractionalTimes on line:  Final Time:\n",
      "\n",
      "Match error in parseStart on line:  Off at: : Start: Good for all except\n",
      "\n",
      "Match error in parseFractionalTimes on line:  Final Time:\n",
      "\n",
      "1800\n",
      "Match error in parseStart on line:  Off at: : Start: Good for all except\n",
      "\n",
      "Match error in parseFractionalTimes on line:  Final Time:\n",
      "\n",
      "Match error in parseStart on line:  Off at: : Start: Good for all except\n",
      "\n",
      "Match error in parseFractionalTimes on line:  Final Time:\n",
      "\n",
      "Match error in parseStart on line:  Off at: : Start: Good for all except\n",
      "\n",
      "Match error in parseFractionalTimes on line:  Final Time:\n",
      "\n",
      "Match error in parseStart on line:  Off at: : Start: Good for all except\n",
      "\n",
      "Match error in parseFractionalTimes on line:  Final Time:\n",
      "\n",
      "Match error in parseStart on line:  Off at: : Start: Good for all except\n",
      "\n",
      "Match error in parseFractionalTimes on line:  Final Time:\n",
      "\n",
      "Match error in parseStart on line:  Off at: : Start: Good for all except\n",
      "\n",
      "Match error in parseFractionalTimes on line:  Final Time:\n",
      "\n",
      "2100\n",
      "Error in parseBetLine on line:  8 Hinting (3 correct)\n",
      "\n",
      "Error in parseBetLine on line:  $0.50 Pick 4 3-1/2/4/5/7/8/9/12-6-1/2/3/4/ 1,048.20 8,470\n",
      "\n",
      "parseHorseBottomLine error on line:  13Jun21 CMR 13f Sir Buckey (Maldonado, Alondra) 109 L 8 4 3 4 4 4 4 33.30 loomed 1/4 pole\n",
      "\n",
      "parseHorseBottomLine error on line:  13Jun21 CMR 12f Deliverer (Adorno, Omix) 112 L 12 11 12 13 13 13 12 33.30 failed to menace,\n",
      "\n",
      "Match error in parseRunlineBottomLine on line:  13f Sir Buckey 4 3 4 4 4 4\n",
      "\n",
      "Match error in parseRunlineBottomLine on line:  12f Deliverer 11 12 13 13 13 12\n",
      "\n",
      "2400\n",
      "Match error in parseWeatherConditions on line:  Weather: Clear Track:\n",
      "\n",
      "Match error in parseStart on line:  Off at: : Start: Good for all\n",
      "\n",
      "Match error in parseFractionalTimes on line:  Final Time:\n",
      "\n",
      "2700\n",
      "Match error in parseWeatherConditions on line:  Weather: Cloudy Track:\n",
      "\n",
      "Match error in parseStart on line:  Off at: : Start: Good for all except\n",
      "\n",
      "Match error in parseFractionalTimes on line:  Final Time:\n",
      "\n",
      "Match error in parseWeatherConditions on line:  Weather: Cloudy Track:\n",
      "\n",
      "Match error in parseStart on line:  Off at: : Start: Good for all except\n",
      "\n",
      "Match error in parseFractionalTimes on line:  Final Time:\n",
      "\n",
      "Match error in parseWeatherConditions on line:  Weather: Cloudy Track:\n",
      "\n",
      "Match error in parseStart on line:  Off at: : Start: Good for all except\n",
      "\n",
      "Match error in parseFractionalTimes on line:  Final Time:\n",
      "\n",
      "Match error in parseWeatherConditions on line:  Weather: Cloudy Track:\n",
      "\n",
      "Match error in parseStart on line:  Off at: : Start: Good for all except\n",
      "\n",
      "Match error in parseFractionalTimes on line:  Final Time:\n",
      "\n",
      "Match error in parseWeatherConditions on line:  Weather: Cloudy Track:\n",
      "\n",
      "Match error in parseStart on line:  Off at: : Start: Good for all except\n",
      "\n",
      "Match error in parseFractionalTimes on line:  Final Time:\n",
      "\n",
      "Error in parseBetLine on line:  5 Officer Matute (4 correct)\n",
      "\n",
      "3000\n",
      "3300\n",
      "Error in parseAdditionalBetLines on line:  $2.00 Twin Trifecta 4-1-2 0 576\n",
      "\n",
      "Match error in parseStart on line:  Off at: : Start: Good for all except\n",
      "\n",
      "Match error in parseFractionalTimes on line:  Final Time:\n",
      "\n",
      "Match error in parseStart on line:  Off at: : Start: Good for all except\n",
      "\n",
      "Match error in parseFractionalTimes on line:  Final Time:\n",
      "\n",
      "Match error in parseStart on line:  Off at: : Start: Good for all except\n",
      "\n",
      "Match error in parseFractionalTimes on line:  Final Time:\n",
      "\n",
      "3600\n",
      "Error in parseAdditionalBetLines on line: $1.00 Trifecta 33995 1,301\n",
      "3900\n",
      "4200\n",
      "Match error in parseWeatherConditions on line:  Weather: Cloudy Track:\n",
      "\n",
      "Match error in parseFractionalTimes on line:  Final Time:\n",
      "\n",
      "Error in parseBetLine on line:  2 Mosalah (3 correct)\n",
      "\n",
      "Error in parseBetLine on line:  $2.00 Daily Double 2-2 11.00 9,000\n",
      "\n",
      "Match error in parseStart on line:  Off at: : Start: Good for all except\n",
      "\n",
      "Match error in parseFractionalTimes on line:  Final Time:\n",
      "\n",
      "4500\n",
      "4800\n",
      "Error in parseAdditionalBetLines on line:  $2.00 Exacta 7.10 32.80 756\n",
      "Error in parseBetLine on line:  6 Nite Sweep 2-4-6 162.75 1,246\n",
      "\n",
      "5100\n",
      "5400\n",
      "Match error in parseStart on line:  Off at: : Start: Good for all except\n",
      "\n",
      "Match error in parseFractionalTimes on line:  Final Time:\n",
      "\n",
      "Match error in parseStart on line:  Off at: : Start: Good for all except\n",
      "\n",
      "Match error in parseFractionalTimes on line:  Final Time:\n",
      "\n",
      "Match error in parseStart on line:  Off at: : Start: Good for all except\n",
      "\n",
      "Match error in parseFractionalTimes on line:  Final Time:\n",
      "\n",
      "Match error in parseStart on line:  Off at: : Start: Good for all except\n",
      "\n",
      "Match error in parseFractionalTimes on line:  Final Time:\n",
      "\n",
      "Match error in parseStart on line:  Off at: : Start: Good for all except\n",
      "\n",
      "Match error in parseFractionalTimes on line:  Final Time:\n",
      "\n",
      "Match error in parseStart on line:  Off at: : Start: Good for all except\n",
      "\n",
      "Match error in parseFractionalTimes on line:  Final Time:\n",
      "\n",
      "5700\n",
      "Error in parseBetLine on line:  $1.00 Daily Double 4-1 18.10 37,418\n",
      "\n",
      "6000\n",
      "Match error in parseWeatherConditions on line:  Weather: Cloudy Track:\n",
      "\n",
      "Match error in parseStart on line:  Off at: : Start: Good for all except\n",
      "\n",
      "Match error in parseFractionalTimes on line:  Final Time:\n",
      "\n",
      "Match error in parseWeatherConditions on line:  Weather: Cloudy Track:\n",
      "\n",
      "Match error in parseStart on line:  Off at: : Start: Good for all except\n",
      "\n",
      "Match error in parseFractionalTimes on line:  Final Time:\n",
      "\n",
      "Match error in parseWeatherConditions on line:  Weather: Cloudy Track:\n",
      "\n",
      "Match error in parseStart on line:  Off at: : Start: Good for all except\n",
      "\n",
      "Match error in parseFractionalTimes on line:  Final Time:\n",
      "\n",
      "Error in parseBetLine on line:  9 P K's Fast Fact 1,730.00\n",
      "\n",
      "Error in parseBetLine on line:  3 Condominio 2,460.00\n",
      "\n",
      "6300\n",
      "Match error in parseWeatherConditions on line:  Weather: Clear Track:\n",
      "\n"
     ]
    },
    {
     "output_type": "execute_result",
     "data": {
      "text/plain": [
       "192.39600467681885"
      ]
     },
     "metadata": {},
     "execution_count": 2
    }
   ],
   "source": [
    "start = time.time()\n",
    "entries = generateEntries('./../charts/txts')\n",
    "end = time.time()\n",
    "\n",
    "end - start"
   ]
  },
  {
   "cell_type": "code",
   "execution_count": 3,
   "metadata": {},
   "outputs": [],
   "source": [
    "conn = psycopg2.connect(\n",
    "    host = \"localhost\",\n",
    "    database = \"horses\",\n",
    "    user = \"karisch\",\n",
    "    password = \"cocacola\",\n",
    "    port = 5432\n",
    ")"
   ]
  },
  {
   "cell_type": "code",
   "execution_count": 4,
   "metadata": {},
   "outputs": [
    {
     "output_type": "error",
     "ename": "UniqueViolation",
     "evalue": "duplicate key value violates unique constraint \"horses_pkey\"\nDETAIL:  Key (track, date, race, \"horseProgram\")=(CMR, 6/26/2021, 5, ERROR) already exists.\n",
     "traceback": [
      "\u001b[0;31m---------------------------------------------------------------------------\u001b[0m",
      "\u001b[0;31mUniqueViolation\u001b[0m                           Traceback (most recent call last)",
      "\u001b[0;32m<ipython-input-4-146e0bedba4e>\u001b[0m in \u001b[0;36m<module>\u001b[0;34m\u001b[0m\n\u001b[0;32m----> 1\u001b[0;31m \u001b[0mpopulateDB\u001b[0m\u001b[0;34m(\u001b[0m\u001b[0mconn\u001b[0m\u001b[0;34m,\u001b[0m \u001b[0mentries\u001b[0m\u001b[0;34m)\u001b[0m\u001b[0;34m\u001b[0m\u001b[0;34m\u001b[0m\u001b[0m\n\u001b[0m",
      "\u001b[0;32m~/projects/horseData/python/populateDB.py\u001b[0m in \u001b[0;36mpopulateDB\u001b[0;34m(dbConnection, entries)\u001b[0m\n\u001b[1;32m    166\u001b[0m \u001b[0;32mdef\u001b[0m \u001b[0mpopulateDB\u001b[0m\u001b[0;34m(\u001b[0m\u001b[0mdbConnection\u001b[0m\u001b[0;34m,\u001b[0m \u001b[0mentries\u001b[0m\u001b[0;34m)\u001b[0m\u001b[0;34m:\u001b[0m\u001b[0;34m\u001b[0m\u001b[0;34m\u001b[0m\u001b[0m\n\u001b[1;32m    167\u001b[0m     \u001b[0mpopulateRaces\u001b[0m\u001b[0;34m(\u001b[0m\u001b[0mdbConnection\u001b[0m\u001b[0;34m,\u001b[0m \u001b[0mentries\u001b[0m\u001b[0;34m[\u001b[0m\u001b[0;34m'races'\u001b[0m\u001b[0;34m]\u001b[0m\u001b[0;34m)\u001b[0m\u001b[0;34m\u001b[0m\u001b[0;34m\u001b[0m\u001b[0m\n\u001b[0;32m--> 168\u001b[0;31m     \u001b[0mpopulateHorses\u001b[0m\u001b[0;34m(\u001b[0m\u001b[0mdbConnection\u001b[0m\u001b[0;34m,\u001b[0m \u001b[0mentries\u001b[0m\u001b[0;34m[\u001b[0m\u001b[0;34m'horses'\u001b[0m\u001b[0;34m]\u001b[0m\u001b[0;34m)\u001b[0m\u001b[0;34m\u001b[0m\u001b[0;34m\u001b[0m\u001b[0m\n\u001b[0m\u001b[1;32m    169\u001b[0m \u001b[0;34m\u001b[0m\u001b[0m\n\u001b[1;32m    170\u001b[0m \u001b[0;32mdef\u001b[0m \u001b[0mpopulateRaces\u001b[0m\u001b[0;34m(\u001b[0m\u001b[0mdbConnection\u001b[0m\u001b[0;34m,\u001b[0m \u001b[0mentries\u001b[0m\u001b[0;34m)\u001b[0m\u001b[0;34m:\u001b[0m\u001b[0;34m\u001b[0m\u001b[0;34m\u001b[0m\u001b[0m\n",
      "\u001b[0;32m~/projects/horseData/python/populateDB.py\u001b[0m in \u001b[0;36mpopulateHorses\u001b[0;34m(dbConnection, entries)\u001b[0m\n\u001b[1;32m    234\u001b[0m         \u001b[0mcur\u001b[0m\u001b[0;34m.\u001b[0m\u001b[0mexecute\u001b[0m\u001b[0;34m(\u001b[0m\u001b[0;34m\"SET session_replication_role='replica';\"\u001b[0m\u001b[0;34m)\u001b[0m\u001b[0;34m\u001b[0m\u001b[0;34m\u001b[0m\u001b[0m\n\u001b[1;32m    235\u001b[0m \u001b[0;34m\u001b[0m\u001b[0m\n\u001b[0;32m--> 236\u001b[0;31m         psycopg2.extras.execute_batch(\n\u001b[0m\u001b[1;32m    237\u001b[0m             \u001b[0mcur\u001b[0m\u001b[0;34m,\u001b[0m\u001b[0;34m\u001b[0m\u001b[0;34m\u001b[0m\u001b[0m\n\u001b[1;32m    238\u001b[0m             \"\"\"\n",
      "\u001b[0;32m~/anaconda3/lib/python3.8/site-packages/psycopg2/extras.py\u001b[0m in \u001b[0;36mexecute_batch\u001b[0;34m(cur, sql, argslist, page_size)\u001b[0m\n\u001b[1;32m   1185\u001b[0m     \u001b[0;32mfor\u001b[0m \u001b[0mpage\u001b[0m \u001b[0;32min\u001b[0m \u001b[0m_paginate\u001b[0m\u001b[0;34m(\u001b[0m\u001b[0margslist\u001b[0m\u001b[0;34m,\u001b[0m \u001b[0mpage_size\u001b[0m\u001b[0;34m=\u001b[0m\u001b[0mpage_size\u001b[0m\u001b[0;34m)\u001b[0m\u001b[0;34m:\u001b[0m\u001b[0;34m\u001b[0m\u001b[0;34m\u001b[0m\u001b[0m\n\u001b[1;32m   1186\u001b[0m         \u001b[0msqls\u001b[0m \u001b[0;34m=\u001b[0m \u001b[0;34m[\u001b[0m\u001b[0mcur\u001b[0m\u001b[0;34m.\u001b[0m\u001b[0mmogrify\u001b[0m\u001b[0;34m(\u001b[0m\u001b[0msql\u001b[0m\u001b[0;34m,\u001b[0m \u001b[0margs\u001b[0m\u001b[0;34m)\u001b[0m \u001b[0;32mfor\u001b[0m \u001b[0margs\u001b[0m \u001b[0;32min\u001b[0m \u001b[0mpage\u001b[0m\u001b[0;34m]\u001b[0m\u001b[0;34m\u001b[0m\u001b[0;34m\u001b[0m\u001b[0m\n\u001b[0;32m-> 1187\u001b[0;31m         \u001b[0mcur\u001b[0m\u001b[0;34m.\u001b[0m\u001b[0mexecute\u001b[0m\u001b[0;34m(\u001b[0m\u001b[0;34mb\";\"\u001b[0m\u001b[0;34m.\u001b[0m\u001b[0mjoin\u001b[0m\u001b[0;34m(\u001b[0m\u001b[0msqls\u001b[0m\u001b[0;34m)\u001b[0m\u001b[0;34m)\u001b[0m\u001b[0;34m\u001b[0m\u001b[0;34m\u001b[0m\u001b[0m\n\u001b[0m\u001b[1;32m   1188\u001b[0m \u001b[0;34m\u001b[0m\u001b[0m\n\u001b[1;32m   1189\u001b[0m \u001b[0;34m\u001b[0m\u001b[0m\n",
      "\u001b[0;31mUniqueViolation\u001b[0m: duplicate key value violates unique constraint \"horses_pkey\"\nDETAIL:  Key (track, date, race, \"horseProgram\")=(CMR, 6/26/2021, 5, ERROR) already exists.\n"
     ]
    }
   ],
   "source": [
    "populateDB(conn, entries)"
   ]
  },
  {
   "cell_type": "code",
   "execution_count": 5,
   "metadata": {},
   "outputs": [],
   "source": [
    "with conn.cursor() as cur:\n",
    "    cur.execute(\"SELECT * FROM main.races;\")\n",
    "    races = cur.fetchall()\n",
    "    cur.execute(\"SELECT * FROM main.horses;\")\n",
    "    horses = cur.fetchall()"
   ]
  },
  {
   "cell_type": "code",
   "execution_count": 10,
   "metadata": {},
   "outputs": [],
   "source": [
    "raceCols = (\"track\", \"date\",\"race\",\"stakes\",\"distanceStr\",\"surface\",\"weather\",\"conditions\",            \"startTime\",\"startNote\",\"segment1\",\"segment2\",\"segment3\",\"segment4\",\"segment5\",\"segments\",\"fracTime1\",\"fracTime2\",\"fracTime3\",\"fracTime4\",\"fracTime5\",\"finalTime\",\"runup\",\"wpsPool\",\"firstPlaceWin\",\"firstPlacePlace\",\"firstPlaceShow\",\"secondPlacePlace\",\"secondPlaceShow\",\"thirdPlaceShow\",\"exactaBuyin\",\"exactaFinish\",\"exactaPayout\",\"exactaPool\",\"trifectaBuyin\",\"trifectaFinish\",\"trifectaPayout\",\"trifectaPool\",\"superfectaBuyin\",\"superfectaFinish\",\"superfectaPayout\",\"superfectaPool\",\"quinellaBuyin\",\"quinellaFinish\",\"quinellaPayout\",\"quinellaPool\")"
   ]
  },
  {
   "cell_type": "code",
   "execution_count": 7,
   "metadata": {},
   "outputs": [],
   "source": [
    "horseCols = (\"track\",\"date\",\"race\",\"horseProgram\",\"horseName\",\"lastRaceDay\",\"lastRaceMonth\",\"lastRaceYear\",\"lastRaceTrack\",\"jockey\",\"weight\",\"ME\",\"placePP\",\"placeSeg1\",\"placeSeg2\",\"placeSeg3\",\"placeSeg4\",\"placeSeg5\",\"placeSeg6\",\"odds\",\"comments\",\"lastRaceNum\",\"lastRacePlace\",\"lengthsSeg1\",\"lengthsSeg2\",\"lengthsSeg3\",\"lengthsSeg4\",\"lengthsSeg5\",\"lengthsSeg6\",\"rlLengthsSeg1\",\"rlLengthsSeg2\",\"rlLengthsSeg3\",\"rlLengthsSeg4\",\"rlLengthsSeg5\",\"rlLengthsSeg6\",\"rlPlaceSeg1\",\"rlPlaceSeg2\",\"rlPlaceSeg3\",\"rlPlaceSeg4\",\"rlPlaceSeg5\",\"rlPlaceSeg6\",\"trainer\",\"owner\")"
   ]
  },
  {
   "cell_type": "code",
   "execution_count": 11,
   "metadata": {},
   "outputs": [],
   "source": [
    "racesdf = pd.DataFrame(races, columns=raceCols, dtype='string')\n",
    "horsesdf = pd.DataFrame(horses, columns=horseCols, dtype='string')"
   ]
  },
  {
   "cell_type": "code",
   "execution_count": 12,
   "metadata": {},
   "outputs": [],
   "source": [
    "racesdf.to_csv('./../outputs/races.csv', index=False)\n",
    "horsesdf.to_csv('./../outputs/horses.csv', index=False)"
   ]
  },
  {
   "cell_type": "code",
   "execution_count": 2,
   "metadata": {},
   "outputs": [
    {
     "output_type": "stream",
     "name": "stdout",
     "text": [
      "Converting  2296 files\n"
     ]
    }
   ],
   "source": [
    "pdf2xml('./../charts/pdfs/2021/', './../charts/xmls/')"
   ]
  },
  {
   "cell_type": "code",
   "execution_count": 3,
   "metadata": {},
   "outputs": [
    {
     "output_type": "stream",
     "name": "stdout",
     "text": [
      "Converting 6422 files\n",
      "Progress: 14.0%\n"
     ]
    }
   ],
   "source": [
    "bulkXml2Txt('./../charts/xmls/', './../charts/txts/')"
   ]
  }
 ]
}