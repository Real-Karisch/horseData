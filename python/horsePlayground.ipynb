{
 "metadata": {
  "language_info": {
   "codemirror_mode": {
    "name": "ipython",
    "version": 3
   },
   "file_extension": ".py",
   "mimetype": "text/x-python",
   "name": "python",
   "nbconvert_exporter": "python",
   "pygments_lexer": "ipython3",
   "version": "3.8.5"
  },
  "orig_nbformat": 2,
  "kernelspec": {
   "name": "python3",
   "display_name": "Python 3.8.5 64-bit ('base': conda)"
  },
  "interpreter": {
   "hash": "e7ad3e331d89125a35e1aa51e4cbfadb7339476d992231fff57158d187b2117c"
  }
 },
 "nbformat": 4,
 "nbformat_minor": 2,
 "cells": [
  {
   "cell_type": "code",
   "execution_count": 1,
   "metadata": {},
   "outputs": [],
   "source": [
    "import sys\n",
    "import os\n",
    "import re\n",
    "import pandas as pd\n",
    "import time\n",
    "import psycopg2\n",
    "import requests\n",
    "from bs4 import BeautifulSoup\n",
    "\n",
    "from convertPDF.webScrape.pdf2xml import *\n",
    "from convertPDF.webScrape.xml2txt import *\n",
    "\n",
    "from convertPDF.driver import parseFullDay, bulkParse\n",
    "\n",
    "from convertPDF.infoFns.genInfoFns import parseGenInfo\n",
    "from convertPDF.infoFns.horseInfoFns import parseHorseInfo\n",
    "from convertPDF.infoFns.timesInfoFns import parseTimeInfo\n",
    "from convertPDF.infoFns.betInfoFns import parseBetInfo\n",
    "from convertPDF.infoFns.runlineInfoFns import parseRunlineInfo\n",
    "from convertPDF.infoFns.endInfoFns import parseEndInfo\n",
    "\n",
    "from populateDB import generateEntries, populateDB\n",
    "\n",
    "from convertPDF.infoFns.regexPatterns import *"
   ]
  },
  {
   "cell_type": "code",
   "execution_count": 28,
   "metadata": {},
   "outputs": [],
   "source": [
    "def renameHtml(folderAddress):\n",
    "    fileNames = os.listdir(folderAddress)\n",
    "    for fileName in fileNames:\n",
    "        with open(folderAddress + '/' + fileName) as file:\n",
    "            raw = file.read()\n",
    "\n",
    "            soup = BeautifulSoup(raw)\n",
    "\n",
    "            date = re.search(r', (.*)', soup.center.text.strip()).group(1)\n",
    "\n",
    "            os.rename(folderAddress + '/' + fileName, folderAddress + '/' + date + '.html')"
   ]
  },
  {
   "cell_type": "code",
   "execution_count": 29,
   "metadata": {},
   "outputs": [],
   "source": [
    "renameHtml('./../html')"
   ]
  },
  {
   "cell_type": "code",
   "execution_count": 8,
   "metadata": {},
   "outputs": [],
   "source": [
    "from bs4 import BeautifulSoup\n",
    "\n",
    "fileNames = os.listdir('./../html/')\n",
    "for fileName in fileNames:\n",
    "    with open('./../html//'  +fileName) as file:\n",
    "        raw = file.read()\n",
    "\n",
    "        soup = BeautifulSoup(raw)\n",
    "\n",
    "            "
   ]
  },
  {
   "cell_type": "code",
   "execution_count": 30,
   "metadata": {},
   "outputs": [],
   "source": [
    "os.rename('./../html//' + fileName, './../html/' + soup.center.text.strip() + '.html')"
   ]
  },
  {
   "cell_type": "code",
   "execution_count": 19,
   "metadata": {},
   "outputs": [
    {
     "output_type": "execute_result",
     "data": {
      "text/plain": [
       "'Tuesday, January 7 2020'"
      ]
     },
     "metadata": {},
     "execution_count": 19
    }
   ],
   "source": [
    "soup.center.text.strip()"
   ]
  },
  {
   "cell_type": "code",
   "execution_count": 27,
   "metadata": {},
   "outputs": [
    {
     "output_type": "execute_result",
     "data": {
      "text/plain": [
       "<re.Match object; span=(0, 1), match='T'>"
      ]
     },
     "metadata": {},
     "execution_count": 27
    }
   ],
   "source": [
    "date = re.search(, soup.center.text.strip())\n",
    "date"
   ]
  },
  {
   "cell_type": "code",
   "execution_count": 11,
   "metadata": {},
   "outputs": [],
   "source": [
    "jack = requests.get('https://www.equibase.com/premium/eqpVchartBuy.cfm?mo=1&da=1&yr=2019&trackco=ALL;ALL&cl=Y').text"
   ]
  },
  {
   "cell_type": "code",
   "execution_count": 12,
   "metadata": {},
   "outputs": [
    {
     "output_type": "execute_result",
     "data": {
      "text/plain": [
       "'<html style=\"height:100%\"><head><META NAME=\"ROBOTS\" CONTENT=\"NOINDEX, NOFOLLOW\"><meta name=\"format-detection\" content=\"telephone=no\"><meta name=\"viewport\" content=\"initial-scale=1.0\"><meta http-equiv=\"X-UA-Compatible\" content=\"IE=edge,chrome=1\"><script type=\"text/javascript\" src=\"/_Incapsula_Resource?SWJIYLWA=719d34d31c8e3a6e6fffd425f7e032f3\"></script><script src=\"/inan-giues-thing-starra-your-Thange-Macb-This-br\" async></script></head><body style=\"margin:0px;height:100%\"><iframe id=\"main-iframe\" src=\"/_Incapsula_Resource?SWUDNSAI=30&xinfo=12-167087838-0%20NNNY%20RT%281624594933514%20266%29%20q%280%20-1%20-1%200%29%20r%281%20-1%29%20B12%2814%2c0%2c0%29%20U18&incident_id=1363000130394797261-883085399731405644&edet=12&cinfo=0e000000ce42&rpinfo=0&cts=GpY%2bkoLcL6zX0Y%2b0YHO0VXwOs%2buIcO4XCbQJOH7p8gql58FpvF9jL5BEBqJfhEgS&mth=GET\" frameborder=0 width=\"100%\" height=\"100%\" marginheight=\"0px\" marginwidth=\"0px\">Request unsuccessful. Incapsula incident ID: 1363000130394797261-883085399731405644</iframe></body></html>'"
      ]
     },
     "metadata": {},
     "execution_count": 12
    }
   ],
   "source": [
    "jack"
   ]
  },
  {
   "cell_type": "code",
   "execution_count": 2,
   "metadata": {
    "tags": []
   },
   "outputs": [
    {
     "output_type": "stream",
     "name": "stdout",
     "text": [
      "No betting detected for race.\n",
      "No betting detected for race.\n",
      "No betting detected for race.\n",
      "No betting detected for race.\n",
      "No betting detected for race.\n",
      "No betting detected for race.\n",
      "No betting detected for race.\n",
      "No betting detected for race.\n",
      "Error in parseBetLine on line:  $2.00 Daily Double 2-9 17.00 3,468\n",
      "\n",
      "No betting detected for race.\n",
      "No betting detected for race.\n",
      "No betting detected for race.\n",
      "Match error in parseWeatherConditions on line:  Weather: Cloudy Track:\n",
      "\n",
      "Match error in parseStart on line:  Off at: : Start: Good for all except\n",
      "\n",
      "Match error in parseFractionalTimes on line:  Final Time:\n",
      "\n",
      "No betting detected for race.\n",
      "Match error in parseWeatherConditions on line:  Weather: Cloudy Track:\n",
      "\n",
      "Match error in parseStart on line:  Off at: : Start: Good for all except\n",
      "\n",
      "Match error in parseFractionalTimes on line:  Final Time:\n",
      "\n",
      "No betting detected for race.\n",
      "Match error in parseWeatherConditions on line:  Weather: Cloudy Track:\n",
      "\n",
      "Match error in parseStart on line:  Off at: : Start: Good for all except\n",
      "\n",
      "Match error in parseFractionalTimes on line:  Final Time:\n",
      "\n",
      "No betting detected for race.\n",
      "No betting detected for race.\n",
      "No betting detected for race.\n",
      "No betting detected for race.\n",
      "No betting detected for race.\n",
      "No betting detected for race.\n",
      "No betting detected for race.\n",
      "Error in parseAdditionalBetLines on line:  $1.00 Superfecta 7-8/ALL/ALL 1,036\n",
      "\n",
      "No betting detected for race.\n",
      "No betting detected for race.\n",
      "No betting detected for race.\n",
      "No betting detected for race.\n",
      "No betting detected for race.\n",
      "No betting detected for race.\n",
      "No betting detected for race.\n",
      "No betting detected for race.\n",
      "Error in parseBetLine on line:  2 Piedi Bianchi (4 correct)\n",
      "\n",
      "No betting detected for race.\n",
      "No betting detected for race.\n",
      "No betting detected for race.\n",
      "No betting detected for race.\n",
      "No betting detected for race.\n",
      "No betting detected for race.\n",
      "No betting detected for race.\n",
      "No betting detected for race.\n",
      "No betting detected for race.\n",
      "No betting detected for race.\n",
      "No betting detected for race.\n",
      "Additional bet line parse error on line:  $2.00 Daily Double (RACES 2-3) 4-ALL 4.00 7,854\n",
      "\n",
      "No betting detected for race.\n"
     ]
    },
    {
     "output_type": "execute_result",
     "data": {
      "text/plain": [
       "8.91314172744751"
      ]
     },
     "metadata": {},
     "execution_count": 2
    }
   ],
   "source": [
    "start = time.time()\n",
    "entries = generateEntries('./../charts/txts')\n",
    "end = time.time()\n",
    "\n",
    "end - start"
   ]
  },
  {
   "cell_type": "code",
   "execution_count": 3,
   "metadata": {},
   "outputs": [],
   "source": [
    "conn = psycopg2.connect(\n",
    "    host = \"localhost\",\n",
    "    database = \"horses\",\n",
    "    user = \"karisch\",\n",
    "    password = \"cocacola\",\n",
    "    port = 5432\n",
    ")"
   ]
  },
  {
   "cell_type": "code",
   "execution_count": 4,
   "metadata": {},
   "outputs": [],
   "source": [
    "populateDB(conn, entries)"
   ]
  },
  {
   "cell_type": "code",
   "execution_count": 5,
   "metadata": {},
   "outputs": [],
   "source": [
    "with conn.cursor() as cur:\n",
    "    cur.execute(\"SELECT * FROM main.races;\")\n",
    "    races = cur.fetchall()\n",
    "    cur.execute(\"SELECT * FROM main.horses;\")\n",
    "    horses = cur.fetchall()"
   ]
  },
  {
   "cell_type": "code",
   "execution_count": 6,
   "metadata": {},
   "outputs": [],
   "source": [
    "raceCols = (\n",
    "            \"track\", \n",
    "            \"date\",\n",
    "            \"race\",\n",
    "            \"distance\",\n",
    "            \"surface\",\n",
    "            \"weather\",\n",
    "            \"conditions\",\n",
    "            \"startTime\",\n",
    "            \"startNote\",\n",
    "            \"segment1\",\n",
    "            \"segment2\",\n",
    "            \"segment3\",\n",
    "            \"segment4\",\n",
    "            \"segment5\",\n",
    "            \"segments\",\n",
    "            \"fracTime1\",\n",
    "            \"fracTime2\",\n",
    "            \"fracTime3\",\n",
    "            \"fracTime4\",\n",
    "            \"fracTime5\",\n",
    "            \"finalTime\",\n",
    "            \"runup\",\n",
    "            \"wpsPool\",\n",
    "            \"firstPlaceWin\",\n",
    "            \"firstPlacePlace\",\n",
    "            \"firstPlaceShow\",\n",
    "            \"secondPlacePlace\",\n",
    "            \"secondPlaceShow\",\n",
    "            \"thirdPlaceShow\",\n",
    "            \"exactaBuyin\",\n",
    "            \"exactaFinish\",\n",
    "            \"exactaPayout\",\n",
    "            \"exactaPool\",\n",
    "            \"trifectaBuyin\",\n",
    "            \"trifectaFinish\",\n",
    "            \"trifectaPayout\",\n",
    "            \"trifectaPool\"\n",
    "        )"
   ]
  },
  {
   "cell_type": "code",
   "execution_count": 7,
   "metadata": {},
   "outputs": [],
   "source": [
    "horseCols = (\n",
    "                \"track\",\n",
    "                \"date\",\n",
    "                \"race\",\n",
    "                \"horseProgram\",\n",
    "                \"horseName\",\n",
    "                \"lastRaceDay\",\n",
    "                \"lastRaceMonth\",\n",
    "                \"lastRaceYear\",\n",
    "                \"lastRaceTrack\",\n",
    "                \"jockey\",\n",
    "                \"weight\",\n",
    "                \"ME\",\n",
    "                \"placePP\",\n",
    "                \"placeSeg1\",\n",
    "                \"placeSeg2\",\n",
    "                \"placeSeg3\",\n",
    "                \"placeSeg4\",\n",
    "                \"placeSeg5\",\n",
    "                \"placeSeg6\",\n",
    "                \"odds\",\n",
    "                \"comments\",\n",
    "                \"lastRaceNum\",\n",
    "                \"lastRacePlace\",\n",
    "                \"lengthsSeg1\",\n",
    "                \"lengthsSeg2\",\n",
    "                \"lengthsSeg3\",\n",
    "                \"lengthsSeg4\",\n",
    "                \"lengthsSeg5\",\n",
    "                \"lengthsSeg6\",\n",
    "                \"rlLengthsSeg1\",\n",
    "                \"rlLengthsSeg2\",\n",
    "                \"rlLengthsSeg3\",\n",
    "                \"rlLengthsSeg4\",\n",
    "                \"rlLengthsSeg5\",\n",
    "                \"rlLengthsSeg6\",\n",
    "                \"rlPlaceSeg1\",\n",
    "                \"rlPlaceSeg2\",\n",
    "                \"rlPlaceSeg3\",\n",
    "                \"rlPlaceSeg4\",\n",
    "                \"rlPlaceSeg5\",\n",
    "                \"rlPlaceSeg6\",\n",
    "                \"trainer\",\n",
    "                \"owner\"\n",
    "                )"
   ]
  },
  {
   "cell_type": "code",
   "execution_count": 8,
   "metadata": {},
   "outputs": [],
   "source": [
    "racesdf = pd.DataFrame(races, columns=raceCols)\n",
    "horsesdf = pd.DataFrame(horses, columns=horseCols)"
   ]
  },
  {
   "cell_type": "code",
   "execution_count": 9,
   "metadata": {},
   "outputs": [],
   "source": [
    "racesdf.to_csv('./../outputs/races.csv')\n",
    "horsesdf.to_csv('./../outputs/horses.csv')"
   ]
  },
  {
   "cell_type": "code",
   "execution_count": 16,
   "metadata": {},
   "outputs": [],
   "source": [
    "conn.close()"
   ]
  },
  {
   "cell_type": "code",
   "execution_count": 15,
   "metadata": {},
   "outputs": [],
   "source": [
    "conn.commit()"
   ]
  },
  {
   "cell_type": "code",
   "execution_count": 10,
   "metadata": {},
   "outputs": [
    {
     "output_type": "stream",
     "name": "stdout",
     "text": [
      "No betting detected for race.\n"
     ]
    }
   ],
   "source": [
    "with open('./../charts/txts/eqbPDFChartPlus - 2021-06-10T234034.773.txt') as file:\n",
    "    full = file.readlines()\n",
    "    jack = parseFullDay(full)"
   ]
  },
  {
   "cell_type": "code",
   "execution_count": 12,
   "metadata": {},
   "outputs": [
    {
     "output_type": "stream",
     "name": "stdout",
     "text": [
      " 2 Sunny Puzzle $2.00 Pick 5 6-1-6-10-6 (5 correct) 290.70 20,221\n\n"
     ]
    }
   ],
   "source": [
    "for line in full:\n",
    "    if re.search('290.70', line) is not None:\n",
    "        print(line)"
   ]
  },
  {
   "cell_type": "code",
   "execution_count": 17,
   "metadata": {},
   "outputs": [],
   "source": [
    "pattern = r'^ \\d?\\d[ABCX]? [^0-9]+ (\\d?\\d?\\d\\.\\d\\d)()()(.*)$'\n",
    "re.search(pattern, line)"
   ]
  },
  {
   "cell_type": "code",
   "execution_count": 2,
   "metadata": {},
   "outputs": [
    {
     "output_type": "execute_result",
     "data": {
      "text/plain": [
       "['', '', '', '$2.00 Pick 5 6-1-6-10-6 (5 correct) 290.70 20,221']"
      ]
     },
     "metadata": {},
     "execution_count": 2
    }
   ],
   "source": [
    "line = ' 2 Sunny Puzzle $2.00 Pick 5 6-1-6-10-6 (5 correct) 290.70 20,221'\n",
    "from convertPDF.betInfoFns import parseBetLine\n",
    "\n",
    "parseBetLine(line)"
   ]
  },
  {
   "cell_type": "code",
   "execution_count": null,
   "metadata": {},
   "outputs": [],
   "source": []
  }
 ]
}