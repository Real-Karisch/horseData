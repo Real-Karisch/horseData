{
 "metadata": {
  "language_info": {
   "codemirror_mode": {
    "name": "ipython",
    "version": 3
   },
   "file_extension": ".py",
   "mimetype": "text/x-python",
   "name": "python",
   "nbconvert_exporter": "python",
   "pygments_lexer": "ipython3",
   "version": "3.8.5"
  },
  "orig_nbformat": 2,
  "kernelspec": {
   "name": "python3",
   "display_name": "Python 3.8.5 64-bit ('base': conda)"
  },
  "interpreter": {
   "hash": "e7ad3e331d89125a35e1aa51e4cbfadb7339476d992231fff57158d187b2117c"
  }
 },
 "nbformat": 4,
 "nbformat_minor": 2,
 "cells": [
  {
   "cell_type": "code",
   "execution_count": 5,
   "metadata": {},
   "outputs": [],
   "source": [
    "import sys\n",
    "import os\n",
    "import re\n",
    "import pandas as pd\n",
    "\n",
    "from pdf2xml import *\n",
    "from xml2txt import *\n",
    "\n",
    "from driver import parseFullDay, bulkParse\n",
    "\n",
    "from genInfoFns import parseGenInfo\n",
    "from horseInfoFns import parseHorseInfo\n",
    "from timesInfoFns import parseTimeInfo\n",
    "from betInfoFns import parseBetInfo\n",
    "from runlineInfoFns import parseRunlineInfo\n",
    "from endInfoFns import parseEndInfo"
   ]
  },
  {
   "cell_type": "code",
   "execution_count": 3,
   "metadata": {
    "tags": []
   },
   "outputs": [],
   "source": [
    "directory = './../trial'\n",
    "jack = bulkParse(directory)"
   ]
  },
  {
   "cell_type": "code",
   "execution_count": 4,
   "metadata": {},
   "outputs": [
    {
     "output_type": "execute_result",
     "data": {
      "text/plain": [
       "Empty DataFrame\n",
       "Columns: [trackName, month, day, year, raceNum, distance, surface, weather, conditions, startTime, startNote, segment1, segment2, segment3, segment4, segment5, segments, lastRaceDay, lastRaceMonth, lastRaceYear, lastRaceTrack, lastRaceNum, lastRacePlace, program, horse, jockey, weight, m_e, placePP, placeSeg1, lengthsSeg1, placeSeg2, lengthsSeg2, placeSeg3, lengthsSeg3, placeSeg4, lengthsSeg4, placeSeg5, lengthsSeg5, placeSeg6, lengthsSeg6, odds, comments, fracTime1, fracTime2, fracTime3, fracTime4, fracTime5, finalTime, runUp, wpsPool, firstPlaceWin, firstPlacePlace, firstPlaceShow, secondPlacePlace, secondPlaceShow, thirdPlaceShow, exactaBuyin, exactaFinish, exactaPayout, exactaPool, trifectaBuyin, trifectaFinish, trifectaPayout, trifectaPool, superfectaBuyin, superfectaFinish, superfectaPayout, superfectaPool, daily doubleBuyin, daily doubleFinish, daily doublePayout, daily doublePool, rlPlaceSeg1, rlLengthsSeg1, rlPlaceSeg2, rlLengthsSeg2, rlPlaceSeg3, rlLengthsSeg3, rlPlaceSeg4, rlLengthsSeg4, rlPlaceSeg5, rlLengthsSeg5, rlPlaceSeg6, rlLengthsSeg6, trainer, owner]\n",
       "Index: []\n",
       "\n",
       "[0 rows x 87 columns]"
      ],
      "text/html": "<div>\n<style scoped>\n    .dataframe tbody tr th:only-of-type {\n        vertical-align: middle;\n    }\n\n    .dataframe tbody tr th {\n        vertical-align: top;\n    }\n\n    .dataframe thead th {\n        text-align: right;\n    }\n</style>\n<table border=\"1\" class=\"dataframe\">\n  <thead>\n    <tr style=\"text-align: right;\">\n      <th></th>\n      <th>trackName</th>\n      <th>month</th>\n      <th>day</th>\n      <th>year</th>\n      <th>raceNum</th>\n      <th>distance</th>\n      <th>surface</th>\n      <th>weather</th>\n      <th>conditions</th>\n      <th>startTime</th>\n      <th>...</th>\n      <th>rlPlaceSeg3</th>\n      <th>rlLengthsSeg3</th>\n      <th>rlPlaceSeg4</th>\n      <th>rlLengthsSeg4</th>\n      <th>rlPlaceSeg5</th>\n      <th>rlLengthsSeg5</th>\n      <th>rlPlaceSeg6</th>\n      <th>rlLengthsSeg6</th>\n      <th>trainer</th>\n      <th>owner</th>\n    </tr>\n  </thead>\n  <tbody>\n  </tbody>\n</table>\n<p>0 rows × 87 columns</p>\n</div>"
     },
     "metadata": {},
     "execution_count": 4
    }
   ],
   "source": [
    "jack"
   ]
  },
  {
   "cell_type": "code",
   "execution_count": 12,
   "metadata": {},
   "outputs": [],
   "source": [
    "line = ' 3 Champagne Chuck 5B --- --- --- --- ---'"
   ]
  },
  {
   "cell_type": "code",
   "execution_count": 13,
   "metadata": {},
   "outputs": [
    {
     "output_type": "execute_result",
     "data": {
      "text/plain": "<re.Match object; span=(0, 41), match=' 3 Champagne Chuck 5B --- --- --- --- ---'>"
     },
     "metadata": {},
     "execution_count": 13
    }
   ],
   "source": [
    "re.search(r'^ (\\d?\\d[ABC]?) [^0-9]+ \\d?\\d[ABC]?( ---)+$', line)"
   ]
  },
  {
   "cell_type": "code",
   "execution_count": null,
   "metadata": {},
   "outputs": [],
   "source": []
  }
 ]
}