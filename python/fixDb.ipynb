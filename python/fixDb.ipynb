{
 "cells": [
  {
   "cell_type": "code",
   "execution_count": 1,
   "metadata": {},
   "outputs": [],
   "source": [
    "import psycopg2\n",
    "import pandas as pd\n",
    "import json\n",
    "import re\n",
    "\n",
    "from populateDB import generateEntries, populateDB\n",
    "from dataClean.prepForSQL import formatHorseEntryForSQL, formatRaceEntryForSQL"
   ]
  },
  {
   "cell_type": "code",
   "execution_count": 2,
   "metadata": {},
   "outputs": [],
   "source": [
    "with open('C:/Users/jackk/Projects/horseData/outputs/entries.json', 'r') as file:\n",
    "    entries = json.loads(file.read())"
   ]
  },
  {
   "cell_type": "code",
   "execution_count": 3,
   "metadata": {},
   "outputs": [],
   "source": [
    "colNames = [\n",
    "        'track',\n",
    "        'date',\n",
    "        'race',\n",
    "        'horseProgram',\n",
    "        'horseName',\n",
    "        'lastRaceDay',\n",
    "        'lastRaceMonth',\n",
    "        'lastRaceYear',\n",
    "        'lastRaceTrack',\n",
    "        'jockey',\n",
    "        'weight',\n",
    "        'ME',\n",
    "        'placePP',\n",
    "        'placeSeg1',\n",
    "        'placeSeg2',\n",
    "        'placeSeg3',\n",
    "        'placeSeg4',\n",
    "        'placeSeg5',\n",
    "        'placeSeg6',\n",
    "        'odds',\n",
    "        'comments',\n",
    "        'lastRaceNum',\n",
    "        'lastRacePlace',\n",
    "        'lengthsSeg1',\n",
    "        'lengthsSeg2',\n",
    "        'lengthsSeg3',\n",
    "        'lengthsSeg4',\n",
    "        'lengthsSeg5',\n",
    "        'lengthsSeg6',\n",
    "        'rlLengthsSeg1',\n",
    "        'rlLengthsSeg2',\n",
    "        'rlLengthsSeg3',\n",
    "        'rlLengthsSeg4',\n",
    "        'rlLengthsSeg5',\n",
    "        'rlLengthsSeg6',\n",
    "        'rlPlaceSeg1',\n",
    "        'rlPlaceSeg2',\n",
    "        'rlPlaceSeg3',\n",
    "        'rlPlaceSeg4',\n",
    "        'rlPlaceSeg5',\n",
    "        'rlPlaceSeg6',\n",
    "        'trainer',\n",
    "        'owner'\n",
    "    ]\n",
    "\n",
    "horsesDf = pd.DataFrame(entries['horses'], columns=colNames)"
   ]
  },
  {
   "cell_type": "code",
   "execution_count": 5,
   "metadata": {},
   "outputs": [],
   "source": [
    "conn = psycopg2.connect(\n",
    "    host = \"localhost\",\n",
    "    database = \"horses\",\n",
    "    user = \"karisch\",\n",
    "    password = \"cocacola\",\n",
    "    port = 5432\n",
    ")\n",
    "cur = conn.cursor()"
   ]
  },
  {
   "cell_type": "code",
   "execution_count": 110,
   "metadata": {},
   "outputs": [],
   "source": [
    "conn.rollback()"
   ]
  },
  {
   "cell_type": "code",
   "execution_count": 7,
   "metadata": {},
   "outputs": [],
   "source": [
    "populateDB(conn, entries, schema='main')\n",
    "\n",
    "conn.commit()"
   ]
  },
  {
   "cell_type": "code",
   "execution_count": 8,
   "metadata": {},
   "outputs": [],
   "source": [
    "q = \"\"\"\n",
    "SELECT * FROM main.horses LIMIT 100;\n",
    "\"\"\"\n",
    "cur.execute(q)\n",
    "res = cur.fetchall()"
   ]
  }
 ],
 "metadata": {
  "kernelspec": {
   "display_name": "horses",
   "language": "python",
   "name": "python3"
  },
  "language_info": {
   "codemirror_mode": {
    "name": "ipython",
    "version": 3
   },
   "file_extension": ".py",
   "mimetype": "text/x-python",
   "name": "python",
   "nbconvert_exporter": "python",
   "pygments_lexer": "ipython3",
   "version": "3.13.2"
  }
 },
 "nbformat": 4,
 "nbformat_minor": 2
}
