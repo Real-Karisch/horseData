{
 "cells": [
  {
   "cell_type": "code",
   "execution_count": 170,
   "metadata": {},
   "outputs": [],
   "source": [
    "import curl_cffi\n",
    "import pandas as pd\n",
    "import time\n",
    "import numpy as np\n",
    "from bs4 import BeautifulSoup\n",
    "import re\n",
    "\n",
    "from convertPDF.webScrape.generateDayLinks import generateDayLink, generateDayLinksBetweenDates\n",
    "from convertPDF.webScrape.htmlMgmt import generateLinksForMissingDays"
   ]
  },
  {
   "cell_type": "code",
   "execution_count": 165,
   "metadata": {},
   "outputs": [
    {
     "data": {
      "text/plain": [
       "3.1648736619429485"
      ]
     },
     "execution_count": 165,
     "metadata": {},
     "output_type": "execute_result"
    }
   ],
   "source": [
    "np.random.normal(loc=4, scale=2)"
   ]
  },
  {
   "cell_type": "code",
   "execution_count": 2,
   "metadata": {},
   "outputs": [],
   "source": [
    "address = \"https://www.equibase.com/static/chart/pdf/SA032825USA.pdf\"\n",
    "\n",
    "res = curl_cffi.get(address, impersonate='chrome')"
   ]
  },
  {
   "cell_type": "code",
   "execution_count": 6,
   "metadata": {},
   "outputs": [],
   "source": [
    "date = pd.to_datetime('1/1/2025')\n",
    "url = generateDayLink(date)"
   ]
  },
  {
   "cell_type": "code",
   "execution_count": 176,
   "metadata": {},
   "outputs": [],
   "source": [
    "res = curl_cffi.get(url, impersonate='chrome')"
   ]
  },
  {
   "cell_type": "code",
   "execution_count": 14,
   "metadata": {},
   "outputs": [],
   "source": [
    "startDate = pd.to_datetime('1/1/2022')\n",
    "endDate = pd.to_datetime('8/1/2022')\n",
    "\n",
    "dayUrls = generateLinksForMissingDays(\n",
    "    folderAddress='C:/Users/jackk/Projects/horseData/html/',\n",
    "    startDate=startDate,\n",
    "    endDate=endDate\n",
    ")"
   ]
  },
  {
   "cell_type": "code",
   "execution_count": 172,
   "metadata": {},
   "outputs": [
    {
     "name": "stdout",
     "output_type": "stream",
     "text": [
      "Pulling all races html from 05/11/2022\n",
      "Pulling all races html from 05/12/2022\n",
      "Pulling all races html from 05/13/2022\n",
      "Pulling all races html from 05/14/2022\n",
      "Pulling all races html from 05/15/2022\n"
     ]
    },
    {
     "ename": "AttributeError",
     "evalue": "'NoneType' object has no attribute 'text'",
     "output_type": "error",
     "traceback": [
      "\u001b[31m---------------------------------------------------------------------------\u001b[39m",
      "\u001b[31mAttributeError\u001b[39m                            Traceback (most recent call last)",
      "\u001b[36mCell\u001b[39m\u001b[36m \u001b[39m\u001b[32mIn[172]\u001b[39m\u001b[32m, line 6\u001b[39m\n\u001b[32m      4\u001b[39m contentStr = res.content.decode()\n\u001b[32m      5\u001b[39m soup = BeautifulSoup(contentStr, \u001b[33m'\u001b[39m\u001b[33mhtml.parser\u001b[39m\u001b[33m'\u001b[39m)\n\u001b[32m----> \u001b[39m\u001b[32m6\u001b[39m dateName = re.search(\u001b[33mr\u001b[39m\u001b[33m'\u001b[39m\u001b[33m, (.*)\u001b[39m\u001b[33m'\u001b[39m, \u001b[43msoup\u001b[49m\u001b[43m.\u001b[49m\u001b[43mcenter\u001b[49m\u001b[43m.\u001b[49m\u001b[43mtext\u001b[49m.strip()).group(\u001b[32m1\u001b[39m)\n\u001b[32m      8\u001b[39m \u001b[38;5;28;01mwith\u001b[39;00m \u001b[38;5;28mopen\u001b[39m(\u001b[33mf\u001b[39m\u001b[33m'\u001b[39m\u001b[33mC:/Users/jackk/Projects/horseData/html/\u001b[39m\u001b[38;5;132;01m{\u001b[39;00mdateName\u001b[38;5;132;01m}\u001b[39;00m\u001b[33m.html\u001b[39m\u001b[33m'\u001b[39m, \u001b[33m'\u001b[39m\u001b[33mw\u001b[39m\u001b[33m'\u001b[39m) \u001b[38;5;28;01mas\u001b[39;00m file:\n\u001b[32m      9\u001b[39m     file.write(contentStr)\n",
      "\u001b[31mAttributeError\u001b[39m: 'NoneType' object has no attribute 'text'"
     ]
    }
   ],
   "source": [
    "for i in dayUrls.index[:5]:\n",
    "    print(f\"Pulling all races html from {dayUrls.loc[i, 'date'].strftime('%m/%d/%Y')}\")\n",
    "    res = curl_cffi.get(dayUrls.loc[i, 'link'], impersonate='chrome')\n",
    "    contentStr = res.content.decode()\n",
    "    soup = BeautifulSoup(contentStr, 'html.parser')\n",
    "    dateName = re.search(r', (.*)', soup.center.text.strip()).group(1)\n",
    "\n",
    "    with open(f'C:/Users/jackk/Projects/horseData/html/{dateName}.html', 'w') as file:\n",
    "        file.write(contentStr)\n",
    "\n",
    "    pause = max(np.random.normal(loc=4, scale=2), 1)\n",
    "    time.sleep(pause)"
   ]
  },
  {
   "cell_type": "code",
   "execution_count": 177,
   "metadata": {},
   "outputs": [],
   "source": [
    "with open(f'jack.html', 'w') as file:\n",
    "    file.write(res.content.decode())"
   ]
  },
  {
   "cell_type": "code",
   "execution_count": null,
   "metadata": {},
   "outputs": [
    {
     "data": {
      "text/plain": [
       "'January 1 2025'"
      ]
     },
     "execution_count": 171,
     "metadata": {},
     "output_type": "execute_result"
    }
   ],
   "source": []
  }
 ],
 "metadata": {
  "kernelspec": {
   "display_name": "horses",
   "language": "python",
   "name": "python3"
  },
  "language_info": {
   "codemirror_mode": {
    "name": "ipython",
    "version": 3
   },
   "file_extension": ".py",
   "mimetype": "text/x-python",
   "name": "python",
   "nbconvert_exporter": "python",
   "pygments_lexer": "ipython3",
   "version": "3.13.2"
  }
 },
 "nbformat": 4,
 "nbformat_minor": 2
}
