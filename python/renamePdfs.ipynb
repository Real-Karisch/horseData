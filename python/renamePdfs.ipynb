{
 "cells": [
  {
   "cell_type": "code",
   "execution_count": 1,
   "metadata": {},
   "outputs": [],
   "source": [
    "import os\n",
    "import re\n",
    "import shutil\n",
    "import pandas as pd\n",
    "import pyperclip\n",
    "import subprocess\n",
    "import psycopg2\n",
    "\n",
    "from PyPDF2 import PdfReader\n",
    "from PyPDF2.errors import PdfReadError"
   ]
  },
  {
   "cell_type": "code",
   "execution_count": 2,
   "metadata": {},
   "outputs": [],
   "source": [
    "oldDirectory = 'C:/Users/jackk/Projects/horseData/charts/pdfs/downloads/'\n",
    "newDirectory = 'C:/Users/jackk/Projects/horseData/charts/pdfs/renamed/'\n",
    "\n",
    "alreadyConvertedFiles = os.listdir(newDirectory)\n",
    "pdfNames = [x for x in os.listdir(oldDirectory) if re.search(r'\\.pdf$',x)]\n",
    "\n",
    "dates = []\n",
    "tracks = []\n",
    "errors = []\n",
    "for filename in pdfNames:\n",
    "    #print(filename)\n",
    "    try:\n",
    "        reader = PdfReader(f\"{oldDirectory}/{filename}\")\n",
    "    except PdfReadError:\n",
    "        print(f'PDF read error in {filename}.')\n",
    "        errors.append(filename)\n",
    "        continue\n",
    "    firstLine = reader.pages[0].extract_text().split('\\n')[0]\n",
    "    trackAndDateSearch = re.search(r\"^(.+)- ([A-Za-z]+ \\d+, \\d+) *-\", firstLine)\n",
    "    track = re.sub(r'[^A-Z]', '', trackAndDateSearch.group(1))\n",
    "    dateStr = trackAndDateSearch.group(2)\n",
    "    date = pd.to_datetime(dateStr)\n",
    "    if track not in tracks:\n",
    "        tracks.append(track)\n",
    "    if date not in dates:\n",
    "        dates.append(date)\n",
    "\n",
    "    newFileName = f\"{track}_{date.strftime('%m.%d.%Y')}.pdf\"\n",
    "\n",
    "    if newFileName not in alreadyConvertedFiles:\n",
    "        shutil.copy(\n",
    "            src=f\"{oldDirectory}/{filename}\",\n",
    "            dst=f\"{newDirectory}/{newFileName}\"\n",
    "        )\n",
    "    #else:\n",
    "        #print(f\"{newFileName} already in the destination folder.\")"
   ]
  },
  {
   "cell_type": "code",
   "execution_count": 1,
   "metadata": {},
   "outputs": [],
   "source": [
    "from convertPDF.webScrape.htmlMgmt import renameHtml\n",
    "\n",
    "renameHtml(folderAddress='C:/Users/jackk/Projects/horseData/html/')"
   ]
  },
  {
   "cell_type": "code",
   "execution_count": 1,
   "metadata": {},
   "outputs": [],
   "source": [
    "from convertPDF.webScrape.saveTrackUrlsFromFiles import saveRaceUrlsFromFiles\n",
    "\n",
    "saveRaceUrlsFromFiles('C:/Users/jackk/Projects/horseData/html/')"
   ]
  }
 ],
 "metadata": {
  "kernelspec": {
   "display_name": "horses",
   "language": "python",
   "name": "python3"
  },
  "language_info": {
   "codemirror_mode": {
    "name": "ipython",
    "version": 3
   },
   "file_extension": ".py",
   "mimetype": "text/x-python",
   "name": "python",
   "nbconvert_exporter": "python",
   "pygments_lexer": "ipython3",
   "version": "3.13.2"
  }
 },
 "nbformat": 4,
 "nbformat_minor": 2
}
