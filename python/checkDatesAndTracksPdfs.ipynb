{
 "cells": [
  {
   "cell_type": "code",
   "execution_count": 11,
   "metadata": {},
   "outputs": [],
   "source": [
    "import os\n",
    "import re\n",
    "import pandas as pd\n",
    "from datetime import timedelta"
   ]
  },
  {
   "cell_type": "code",
   "execution_count": 2,
   "metadata": {},
   "outputs": [],
   "source": [
    "address = 'C:/Users/jackk/Projects/horseData/charts/pdfs/renamed/'\n",
    "\n",
    "filenames = os.listdir(address)\n",
    "\n",
    "datesTracks = {}\n",
    "for filename in filenames:\n",
    "    search = re.search(r'([A-Z]+)_(\\d\\d\\.\\d\\d\\.\\d\\d\\d\\d)\\.pdf', filename)\n",
    "    track = search.group(1)\n",
    "    date = pd.to_datetime(search.group(2))\n",
    "    if date in datesTracks.keys():\n",
    "        datesTracks[date].append(track)\n",
    "    else:\n",
    "        datesTracks[date] = [track]"
   ]
  }
 ],
 "metadata": {
  "kernelspec": {
   "display_name": "horses",
   "language": "python",
   "name": "python3"
  },
  "language_info": {
   "codemirror_mode": {
    "name": "ipython",
    "version": 3
   },
   "file_extension": ".py",
   "mimetype": "text/x-python",
   "name": "python",
   "nbconvert_exporter": "python",
   "pygments_lexer": "ipython3",
   "version": "3.13.2"
  }
 },
 "nbformat": 4,
 "nbformat_minor": 2
}
