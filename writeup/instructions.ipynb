{
 "cells": [
  {
   "cell_type": "markdown",
   "id": "2d6cd194",
   "metadata": {},
   "source": [
    "## INSTRUCTIONS FOR RUNNING THE DATA GATHERING PROCESS\n",
    "Notes:\n",
    "* All file/folder references are from the main horseData folder"
   ]
  },
  {
   "cell_type": "markdown",
   "id": "acffd118",
   "metadata": {},
   "source": [
    "1. Run `~/python/scripts.py --scriptName generateDayLinks --startDate <m/d/yyyy> --endDate <m/d/yyyy>`\n",
    "\n",
    "2. Open `~/excel/dayLinksTemp.csv` and copy a chunk of links (say 50 cells) and copy them into the text box at `openmultipleurl.com`, then open all the tabs\n",
    "    * If you get an \"I am a human\" test, click the box then close the tabs and reopen from `openmultipleurl.com`\n",
    "\n",
    "3. Make sure the browser is saving html page downloads in `~/html/` and the AutoHotKey script at `~/python/scripts/saveHtmlHotkey.ahk` specifies the loop variable in line 3 to correspond to the number of tabs you opened in step 2 (e.g. 50)\n",
    "\n",
    "4. Run the AutoHotKey script at `~/python/scripts/saveHtmlHotkey.ahk` by double clicking; this \"primes\" it, then open the browser and press `ctrl+j` to activate it\n",
    "\n",
    "5. Rename the htmls just downloaded and generate links for any missed by running `~/python/scripts.py --scriptName findMissingHtmls --startDate <m/d/yyyy> --endDate <m/d/yyyy>` with the same `startDate` and `endDate` as in step 1\n",
    "    * Repeat steps 2 - 5 as needed until all dates have been downloaded (this step is necessary because the AHK script sometimes misses dates)\n",
    "\n",
    "6. Run `~/python/scripts.py --scriptName saveRaceUrlsFromHtml`\n",
    "\n",
    "7."
   ]
  }
 ],
 "metadata": {
  "language_info": {
   "name": "python"
  }
 },
 "nbformat": 4,
 "nbformat_minor": 5
}
